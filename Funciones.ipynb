{
 "cells": [
  {
   "cell_type": "code",
   "execution_count": 1,
   "metadata": {},
   "outputs": [],
   "source": [
    "import hashlib\n",
    "import random\n",
    "\n",
    "# https://neuromancer.sk/std/nist/P-256\n",
    "# https://datatracker.ietf.org/doc/html/rfc6979#page-33"
   ]
  },
  {
   "cell_type": "code",
   "execution_count": 2,
   "metadata": {},
   "outputs": [],
   "source": [
    "#q=int('FFFFFFFF00000000FFFFFFFFFFFFFFFFBCE6FAADA7179E84F3B9CAC2FC632551',16)\n",
    "q=int(0xffffffff00000001000000000000000000000000ffffffffffffffffffffffff)\n",
    "a=int(0xffffffff00000001000000000000000000000000fffffffffffffffffffffffc)\n",
    "b=int(0x5ac635d8aa3a93e7b3ebbd55769886bc651d06b0cc53b0f63bce3c3e27d2604b)\n",
    "Px=int(0x6b17d1f2e12c4247f8bce6e563a440f277037d812deb33a0f4a13945d898c296)\n",
    "Py=int(0x4fe342e2fe1a7f9b8ee7eb4a7c0f9e162bce33576b315ececbb6406837bf51f5)\n",
    "n=int(0xffffffff00000000ffffffffffffffffbce6faada7179e84f3b9cac2fc632551)\n",
    "#d=int('C9AFA9D845BA75166B5C215767B1D6934E50C3DB36E89B127B8A622B120F6721',16)\n",
    "#k=int('A6E3C57DD01ABE90086538398355DD4C3B17AA873382B0F24D6129493D8AAD60',16)\n",
    "m='sample'"
   ]
  },
  {
   "cell_type": "code",
   "execution_count": 3,
   "metadata": {},
   "outputs": [],
   "source": [
    "def modinverse_(w,c):#w es el número que se desea invertir; c es el módulo\n",
    "    x = pow(w,c-2,c)\n",
    "    return x"
   ]
  },
  {
   "cell_type": "code",
   "execution_count": 4,
   "metadata": {},
   "outputs": [],
   "source": [
    "def verify_():\n",
    "    cond=(4*a**3+27*b**2)%q\n",
    "    if cond!=0:\n",
    "        exist=True\n",
    "    else:\n",
    "        exist=False\n",
    "    return exist"
   ]
  },
  {
   "cell_type": "code",
   "execution_count": 5,
   "metadata": {},
   "outputs": [],
   "source": [
    "def sum_(Px,Py,Qx,Qy):\n",
    "    lambd=((Qy-Py)*modinverse_(Qx-Px,q))%q\n",
    "    Rx=(lambd**2-Px-Qx)%q\n",
    "    Ry=(-Py+lambd*(Px-Rx))%q\n",
    "    return Rx,Ry"
   ]
  },
  {
   "cell_type": "code",
   "execution_count": 6,
   "metadata": {},
   "outputs": [],
   "source": [
    "def duplicate_(Px,Py):\n",
    "    lambd=((3*(Px**2)+a)*modinverse_(2*Py,q))%q\n",
    "    Qx=(lambd**2-2*Px)%q\n",
    "    Qy=(-Py+lambd*(Px-Qx))%q\n",
    "    return Qx,Qy"
   ]
  },
  {
   "cell_type": "code",
   "execution_count": 7,
   "metadata": {},
   "outputs": [],
   "source": [
    "def binaryscalarproduct_(Px,Py,k):\n",
    "    kbin=bin(k)[2:]\n",
    "    #print('kbin:', kbin)\n",
    "    m=len(kbin)\n",
    "    #print(m)\n",
    "    Qx=Px\n",
    "    Qy=Py\n",
    "    #for j in range(m-2,-1,-1):\n",
    "    for j in range(1,m,1):\n",
    "        #print('Secuencia: ',j,' Bit: ',kbin[j])\n",
    "        Qx,Qy=duplicate_(Qx,Qy)\n",
    "        #print('duplicado:',Qx,Qy)\n",
    "        if kbin[j]=='1':\n",
    "            Qx,Qy=sum_(Qx,Qy,Px,Py)\n",
    "            #print('sumado:',Qx,Qy)\n",
    "    return Qx,Qy"
   ]
  },
  {
   "cell_type": "code",
   "execution_count": 9,
   "metadata": {},
   "outputs": [],
   "source": [
    "def generatesignature_(Px,Py,n,d,m):\n",
    "    r=0\n",
    "    s=0\n",
    "    while r==0 or s==0:\n",
    "        k=random.randint(0,n-1) #para fines de esta implementación, k se da en los vectores de prueba.\n",
    "        Qx,Qy=binaryscalarproduct_(Px,Py,k)\n",
    "        r=Qx%n\n",
    "        e=hashlib.sha256()\n",
    "        e.update(m.encode('utf-8'))\n",
    "        e=int(e.hexdigest(),16)\n",
    "        j=modinverse_(k,n)%n\n",
    "        s=(j*(e+d*r))%n\n",
    "    return r,s"
   ]
  },
  {
   "cell_type": "code",
   "execution_count": 11,
   "metadata": {},
   "outputs": [],
   "source": [
    "def generatePrivateKey_(n):\n",
    "    d = random.randint(1,n-1)\n",
    "    return d"
   ]
  },
  {
   "cell_type": "code",
   "execution_count": 12,
   "metadata": {},
   "outputs": [],
   "source": [
    "def generatePublicKey_(Px,Py,d):\n",
    "    Dx,Dy=binaryscalarproduct_(Px,Py,d)\n",
    "    return Dx,Dy"
   ]
  },
  {
   "cell_type": "code",
   "execution_count": 13,
   "metadata": {},
   "outputs": [],
   "source": [
    "def verifysignature_(Px,Py,n,Dx,Dy,m,r,s):\n",
    "    if (r<=0 or r>=(n-1) or s<=0 or s>=(n-1)):\n",
    "        final=False\n",
    "    else:\n",
    "        w=modinverse_(s,n)%n\n",
    "        u=hashlib.sha256()\n",
    "        u.update(m.encode('utf-8'))\n",
    "        u=int(u.hexdigest(),16)\n",
    "        u1=(w*u)%n\n",
    "        u2=(r*w)%n\n",
    "        u1_times_Px,u1_times_Py=binaryscalarproduct_(Px,Py,u1)\n",
    "        u2_times_Dx,u2_times_Dy=binaryscalarproduct_(Dx,Dy,u2)\n",
    "        Yx,Yy=sum_(u1_times_Px,u1_times_Py,u2_times_Dx,u2_times_Dy)\n",
    "        v=Yx%n\n",
    "        if (r==v):\n",
    "            final=True\n",
    "        else:\n",
    "            final=False\n",
    "    return final"
   ]
  },
  {
   "cell_type": "code",
   "execution_count": 21,
   "metadata": {},
   "outputs": [],
   "source": [
    "test_vectors = []\n",
    "vectors_num = 100\n",
    "tiempo_gen_llaves = []\n",
    "tiempo_gen_firma = []\n",
    "tiempo = []\n",
    "tiempo_val_firma = []\n",
    "import time\n",
    "\n",
    "for i in range(vectors_num):\n",
    "    start_time_process = time.time()\n",
    "    \n",
    "    start_time = time.time()\n",
    "    d = generatePrivateKey_(n)\n",
    "    Dx,Dy = generatePublicKey_(Px,Py,d)\n",
    "    tiempo_computo = time.time() - start_time\n",
    "    tiempo_gen_llaves.append(tiempo_computo)\n",
    "    \n",
    "    start_time = time.time()\n",
    "    r,s = generatesignature_(Px,Py,n,d,m)\n",
    "    tiempo_computo = time.time() - start_time\n",
    "    tiempo_gen_firma.append(tiempo_computo)\n",
    "    \n",
    "    start_time = time.time()\n",
    "    result = verifysignature_(Px,Py,n,Dx,Dy,m,r,s)\n",
    "    tiempo_computo = time.time() - start_time\n",
    "    tiempo_val_firma.append(tiempo_computo)\n",
    "    \n",
    "    tiempo_total = time.time() - start_time_process\n",
    "    tiempo.append(tiempo_total)\n",
    "    \n",
    "    list_aux = [d,Dx,Dy,r,s,tiempo_total,result]\n",
    "    \n",
    "    test_vectors.append(list_aux)"
   ]
  },
  {
   "cell_type": "code",
   "execution_count": 22,
   "metadata": {},
   "outputs": [],
   "source": [
    "labels = ['Llave Privada: ','Llave Publica Dx: ','Llave Publica Dy: ','Firma Digital r: ','Firma Digital s: ', 'Tiempo de Cómputo: ', 'Resultado: ']\n",
    "with open('vectores_prueba.txt', 'w', encoding='utf-8') as f:\n",
    "    for i in range(len(test_vectors)):\n",
    "        f.write('Vector de Prueba: '+str(i+1)+'\\n')\n",
    "        for j in range(7):\n",
    "            f.write(labels[j]+str(test_vectors[i][j])+'\\n')\n",
    "            #print(labels[j],test_vectors[i][j])\n",
    "        f.write('\\n')   "
   ]
  },
  {
   "cell_type": "code",
   "execution_count": 23,
   "metadata": {},
   "outputs": [
    {
     "data": {
      "image/png": "[encoded data removed]",
      "text/plain": [
       "<Figure size 432x288 with 1 Axes>"
      ]
     },
     "metadata": {
      "needs_background": "light"
     },
     "output_type": "display_data"
    }
   ],
   "source": [
    "import matplotlib.pyplot as plt\n",
    "plt.hist(tiempo_gen_llaves)\n",
    "plt.show()"
   ]
  },
  {
   "cell_type": "code",
   "execution_count": 24,
   "metadata": {},
   "outputs": [
    {
     "data": {
      "image/png": "[encoded data removed]",
      "text/plain": [
       "<Figure size 432x288 with 1 Axes>"
      ]
     },
     "metadata": {
      "needs_background": "light"
     },
     "output_type": "display_data"
    }
   ],
   "source": [
    "plt.hist(tiempo_gen_firma)\n",
    "plt.show()"
   ]
  },
  {
   "cell_type": "code",
   "execution_count": 27,
   "metadata": {},
   "outputs": [
    {
     "data": {
      "image/png": "[encoded data removed]",
      "text/plain": [
       "<Figure size 432x288 with 1 Axes>"
      ]
     },
     "metadata": {
      "needs_background": "light"
     },
     "output_type": "display_data"
    }
   ],
   "source": [
    "plt.hist(tiempo_val_firma)\n",
    "plt.show()"
   ]
  },
  {
   "cell_type": "code",
   "execution_count": 26,
   "metadata": {},
   "outputs": [
    {
     "data": {
      "image/png": "[encoded data removed]",
      "text/plain": [
       "<Figure size 432x288 with 1 Axes>"
      ]
     },
     "metadata": {
      "needs_background": "light"
     },
     "output_type": "display_data"
    }
   ],
   "source": [
    "plt.hist(tiempo)\n",
    "plt.show()"
   ]
  }
 ],
 "metadata": {
  "kernelspec": {
   "display_name": "Python 3",
   "language": "python",
   "name": "python3"
  },
  "language_info": {
   "codemirror_mode": {
    "name": "ipython",
    "version": 3
   },
   "file_extension": ".py",
   "mimetype": "text/x-python",
   "name": "python",
   "nbconvert_exporter": "python",
   "pygments_lexer": "ipython3",
   "version": "3.7.9"
  }
 },
 "nbformat": 4,
 "nbformat_minor": 4
}
