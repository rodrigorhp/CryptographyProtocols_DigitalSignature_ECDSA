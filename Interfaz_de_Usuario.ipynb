{
 "cells": [
  {
   "cell_type": "markdown",
   "metadata": {
    "id": "MMgLJxzJ-48Y"
   },
   "source": [
    "# Importamos Librerías"
   ]
  },
  {
   "cell_type": "code",
   "execution_count": 1,
   "metadata": {
    "id": "rESuxunu-48d"
   },
   "outputs": [],
   "source": [
    "from tkinter import *\n",
    "from tkinter import messagebox, filedialog\n",
    "from tkinter import ttk\n",
    "import tkinter as tk\n",
    "import os, sys\n",
    "import hashlib\n",
    "import random\n",
    "from sys import getsizeof\n",
    "import linecache\n",
    "import base64\n",
    "import time\n",
    "from tkinter.messagebox import showinfo\n",
    "\n",
    "from cryptography.hazmat.backends import default_backend\n",
    "from cryptography import x509\n",
    "from cryptography.x509 import load_pem_x509_certificate\n",
    "from cryptography.hazmat.primitives import hashes\n",
    "from cryptography.hazmat.backends import default_backend\n",
    "from cryptography.hazmat.primitives import serialization\n",
    "from cryptography.x509.oid import NameOID\n",
    "from cryptography.hazmat.primitives import hashes\n",
    "from cryptography.hazmat.primitives.asymmetric import ec\n",
    "from datetime import datetime\n",
    "import datetime as dt\n",
    "import random"
   ]
  },
  {
   "cell_type": "code",
   "execution_count": 2,
   "metadata": {
    "id": "yu62w3PEtJOU"
   },
   "outputs": [],
   "source": [
    "from uuid import uuid4\n",
    "\n",
    "def generateUUID():\n",
    "    return str(uuid4())"
   ]
  },
  {
   "cell_type": "markdown",
   "metadata": {
    "id": "O88stwRW-48e"
   },
   "source": [
    "# Paths"
   ]
  },
  {
   "cell_type": "code",
   "execution_count": 3,
   "metadata": {
    "id": "0f545UCH-48f"
   },
   "outputs": [],
   "source": [
    "key_path = os.path.join(\"keys\")\n",
    "txt_path = os.path.join(\"txt\")"
   ]
  },
  {
   "cell_type": "markdown",
   "metadata": {
    "id": "TlE3HF9i-48f"
   },
   "source": [
    "# Variables Iniciales"
   ]
  },
  {
   "cell_type": "code",
   "execution_count": 4,
   "metadata": {
    "id": "aIUu2tDr-48f"
   },
   "outputs": [],
   "source": [
    "q=int(0xffffffff00000001000000000000000000000000ffffffffffffffffffffffff)\n",
    "a=int(0xffffffff00000001000000000000000000000000fffffffffffffffffffffffc)\n",
    "b=int(0x5ac635d8aa3a93e7b3ebbd55769886bc651d06b0cc53b0f63bce3c3e27d2604b)\n",
    "Px=int(0x6b17d1f2e12c4247f8bce6e563a440f277037d812deb33a0f4a13945d898c296)\n",
    "Py=int(0x4fe342e2fe1a7f9b8ee7eb4a7c0f9e162bce33576b315ececbb6406837bf51f5)\n",
    "n=int(0xffffffff00000000ffffffffffffffffbce6faada7179e84f3b9cac2fc632551)"
   ]
  },
  {
   "cell_type": "markdown",
   "metadata": {
    "id": "8hMG6AKB-48g"
   },
   "source": [
    "# Funciones Modulares"
   ]
  },
  {
   "cell_type": "code",
   "execution_count": 5,
   "metadata": {
    "id": "yvjhk8wC-48g"
   },
   "outputs": [],
   "source": [
    "def sum_(Px,Py,Qx,Qy):\n",
    "    lambd=((Qy-Py)*modinverse_(Qx-Px,q))%q\n",
    "    Rx=(lambd**2-Px-Qx)%q\n",
    "    Ry=(-Py+lambd*(Px-Rx))%q\n",
    "    return Rx,Ry\n",
    "\n",
    "def duplicate_(Px,Py):\n",
    "    lambd=((3*(Px**2)+a)*modinverse_(2*Py,q))%q\n",
    "    Qx=(lambd**2-2*Px)%q\n",
    "    Qy=(-Py+lambd*(Px-Qx))%q\n",
    "    return Qx,Qy\n",
    "\n",
    "def binaryscalarproduct_(Px,Py,k):\n",
    "    kbin=bin(k)[2:]\n",
    "    #print('kbin:', kbin)\n",
    "    m=len(kbin)\n",
    "    #print(m)\n",
    "    Qx=Px\n",
    "    Qy=Py\n",
    "    #for j in range(m-2,-1,-1):\n",
    "    for j in range(1,m,1):\n",
    "        #print('Secuencia: ',j,' Bit: ',kbin[j])\n",
    "        Qx,Qy=duplicate_(Qx,Qy)\n",
    "        #print('duplicado:',Qx,Qy)\n",
    "        if kbin[j]=='1':\n",
    "            Qx,Qy=sum_(Qx,Qy,Px,Py)\n",
    "            #print('sumado:',Qx,Qy)\n",
    "    return Qx,Qy\n",
    "\n",
    "def modinverse_(w,c):#w es el número que se desea invertir; c es el módulo\n",
    "    x = pow(w,c-2,c)\n",
    "    return x\n",
    "\n",
    "def verify_():\n",
    "    cond=(4*a**3+27*b**2)%q\n",
    "    if cond!=0:\n",
    "        exist=True\n",
    "    else:\n",
    "        exist=False\n",
    "    return exist"
   ]
  },
  {
   "cell_type": "markdown",
   "metadata": {
    "id": "MpzzwqJt-48h"
   },
   "source": [
    "# Estilo"
   ]
  },
  {
   "cell_type": "code",
   "execution_count": 6,
   "metadata": {
    "id": "UeMgF5Yj-48h"
   },
   "outputs": [],
   "source": [
    "raiz = Tk()\n",
    "\n",
    "raiz.title(\"Reto: Firmas Digitales\")\n",
    "raiz.resizable(0, 0)\n",
    "raiz.geometry(\"600x300\")\n",
    "\n",
    "\n",
    "#cuadrillo del tec con titulo xd\n",
    "myFrame = Frame()\n",
    "myFrame.pack(side=\"top\")\n",
    "myFrame.config(bg=\"#F2F2F2\")\n",
    "\n",
    "text = Label(\n",
    "    text=\"Instituto Tecnológico de Estudios Superiores de Monterrey\\n\\n Teletón\\n\\n \"\n",
    ")\n",
    "text.place(x=125, y=20)\n",
    "\n",
    "\n",
    "text = Label(\n",
    "    text=\"Elige una opción: \\n\"\n",
    ")\n",
    "text.place(x=200, y=80)\n",
    "\n",
    "combo = ttk.Combobox(raiz)\n",
    "combo.place(x=200, y=100)\n",
    "combo.config(justify= \"center\")\n",
    "combo[\"values\"] = (\"Generar Certificado y Clave\", \"Generar Firma\", \"Verificar Firma\")"
   ]
  },
  {
   "cell_type": "markdown",
   "metadata": {
    "id": "ZaPgSuXt-48i"
   },
   "source": [
    "# Generación de Llaves"
   ]
  },
  {
   "cell_type": "code",
   "execution_count": 7,
   "metadata": {
    "id": "XhLdU5dh-48i"
   },
   "outputs": [],
   "source": [
    "def generatePrivateKey_(n):\n",
    "    d = random.randint(1,n-1)\n",
    "    return d\n",
    "\n",
    "def generatePublicKey_(Px,Py,d):\n",
    "    Dx,Dy=binaryscalarproduct_(Px,Py,d)\n",
    "    return Dx,Dy\n",
    "\n",
    "def generar_llaves():\n",
    "    savingName = os.path.join(key_path, \"private_key.pem\")\n",
    "    file_out = open(savingName, \"w\")\n",
    "    d = generatePrivateKey_(n)\n",
    "    file_out.write(str(d))\n",
    "    file_out.close()\n",
    "    \n",
    "    savingName = os.path.join(key_path, \"public_key.pem\")\n",
    "    file_out = open(savingName, \"w\")\n",
    "    Dx, Dy = generatePublicKey_(Px,Py,d)\n",
    "    file_out.write('Clave Publica Dx: '+str(Dx))\n",
    "    file_out.write('\\n')\n",
    "    file_out.write('Clave Publica Dy: '+str(Dy))\n",
    "    file_out.close()"
   ]
  },
  {
   "cell_type": "markdown",
   "metadata": {
    "id": "7Sf4gEWs-48i"
   },
   "source": [
    "# Seleccionar Opción"
   ]
  },
  {
   "cell_type": "markdown",
   "metadata": {
    "id": "Nm6nFrri-48j"
   },
   "source": [
    "# Abrir Archivos"
   ]
  },
  {
   "cell_type": "code",
   "execution_count": 8,
   "metadata": {
    "id": "eFxmsLEi-48j"
   },
   "outputs": [],
   "source": [
    "def abrirArchivo_a_Usar():\n",
    "    raiz.archivo = filedialog.askopenfilename(\n",
    "        initialdir=txt_path,\n",
    "        title=\"Selecciona un archivo txt para firmar o para verificar\",\n",
    "        filetypes=((\"txt files\", \".txt\"), (\"all files\", \".*\")),\n",
    "    )\n",
    "\n",
    "def abrirArchivo_a_Usar_f():\n",
    "    raiz.llave = filedialog.askopenfilename(\n",
    "        initialdir = key_path,\n",
    "        title = \"Selecciona una llave\",\n",
    "        filetypes = ((\"pem files\", \".pem\"), (\"all files\", \".*\")),\n",
    "    )\n",
    "\n",
    "def abrirArchivo_a_Usar_c():\n",
    "    raiz.certificado = filedialog.askopenfilename(\n",
    "        initialdir=key_path,\n",
    "        title=\"Selecciona el certificado\",\n",
    "        filetypes=((\"DER files\", \".der\"), (\"all files\", \".*\")),\n",
    "    )"
   ]
  },
  {
   "cell_type": "markdown",
   "metadata": {
    "id": "cDga88Gi-48j"
   },
   "source": [
    "# Estilo del Menú"
   ]
  },
  {
   "cell_type": "code",
   "execution_count": 9,
   "metadata": {
    "id": "QGeHTNjO-48j"
   },
   "outputs": [],
   "source": [
    "def seleccionar_funcion():\n",
    "    combo_sel = combo.get()\n",
    "\n",
    "    if combo_sel == \"Generar Firma\":\n",
    "        firma()\n",
    "\n",
    "    elif combo_sel == \"Verificar Firma\":\n",
    "        verificar()\n",
    "\n",
    "    elif combo_sel == \"Generar Certificado y Clave\":\n",
    "        generar_llaves()\n",
    "        certificado()\n",
    "\n",
    "    else:\n",
    "        messagebox.showinfo(\"Error \", \"You must select an option\")"
   ]
  },
  {
   "cell_type": "code",
   "execution_count": 10,
   "metadata": {
    "id": "nI68rCr8-48k"
   },
   "outputs": [],
   "source": [
    "start = Button(raiz, text=\"Aceptar\", command=seleccionar_funcion, justify=\"center\", anchor=\"center\")\n",
    "start.place(x=200, y=180, anchor=\"center\")"
   ]
  },
  {
   "cell_type": "markdown",
   "metadata": {
    "id": "Tu0MDSwR-48k"
   },
   "source": [
    "### Firma"
   ]
  },
  {
   "cell_type": "code",
   "execution_count": 11,
   "metadata": {
    "id": "KETx3CTV-48k"
   },
   "outputs": [],
   "source": [
    "def firma():\n",
    "    newWindow = Toplevel(raiz)\n",
    "    newWindow.title(\"Generación de Firma\")\n",
    "    newWindow.geometry(\"500x300\")\n",
    "        \n",
    "    def ventanaFirmas():\n",
    "        nuevaVentana = Toplevel(raiz)\n",
    "        nuevaVentana.title(\"Firma Digital: \")\n",
    "        nuevaVentana.geometry(\"300x150\")\n",
    "        labelV = Label(\n",
    "            nuevaVentana, \n",
    "            text='Firma Digital:'\n",
    "            )\n",
    "        labelV.grid(row=0, column=1, padx=10)\n",
    "        \n",
    "        botonF = Button(\n",
    "            nuevaVentana, \n",
    "            text='Descargar Documento')\n",
    "        botonF.grid(row=2, columnspan=3, pady=10)\n",
    "\n",
    "    def uploadFiles():\n",
    "        root = tk.Toplevel()\n",
    "        root.geometry('300x120')\n",
    "        root.title('Cargando')\n",
    "        \n",
    "        pb1 = ttk.Progressbar(\n",
    "            root, \n",
    "            orient= \"horizontal\", \n",
    "            length=300, \n",
    "            mode='determinate',\n",
    "            )\n",
    "        pb1.grid(row=5, columnspan=3, pady=20)\n",
    "\n",
    "        for i in range(5):\n",
    "            root.update_idletasks()\n",
    "            Label(root, text=f\"Progreso: {pb1['value']}%\").grid(column=0, row=6, columnspan=2)\n",
    "            pb1['value'] += 20\n",
    "            time.sleep(1)\n",
    "            Label(root, text=f\"Progreso: {pb1['value']}%\").grid(column=0, row=6, columnspan=2)\n",
    "        pb1.destroy()\n",
    "        Label(root, text='Archivo Subido', foreground='green').grid(row=5, columnspan=3, padx=10, pady=10)\n",
    "\n",
    "        with open(file_save, encoding=\"utf-8\") as f:\n",
    "            message = f.readlines()\n",
    "            message = \"\".join(message)\n",
    "        message_to_sign = message\n",
    "        generate_signature(message_to_sign)\n",
    "\n",
    "    x = Label(newWindow,\n",
    "        text = \"Por favor, llena la siguiente información\")\n",
    "    x.grid(row=0, column=1, padx=10)\n",
    "    \n",
    "    archivo = Label(\n",
    "        newWindow, \n",
    "        text='Archivo por Firmar: '\n",
    "        )\n",
    "    archivo.grid(row=1, column=0, padx=10)\n",
    "\n",
    "    boton_arch = Button(\n",
    "        newWindow, \n",
    "        text=\"Seleccionar Archivo\",\n",
    "        command= abrirArchivo_a_Usar\n",
    "        ) \n",
    "    boton_arch.grid(row=1, column=1)\n",
    "\n",
    "    cp = Label(\n",
    "        newWindow, \n",
    "        text='Clave privada:'\n",
    "        )\n",
    "    cp.grid(row=2, column=0, padx=10)\n",
    "\n",
    "    cp_boton = Button(\n",
    "        newWindow, \n",
    "        text=\"Seleccionar Archivo\",\n",
    "        command= abrirArchivo_a_Usar_f\n",
    "        ) \n",
    "    cp_boton.grid(row=2, column=1)\n",
    "    \n",
    "    upld = Button(\n",
    "        newWindow, \n",
    "        text='Enviar archivos', \n",
    "        command=uploadFiles\n",
    "        )\n",
    "    upld.grid(row=4, columnspan=3, pady=10)    \n",
    "    file_save = os.path.join(txt_path, \"Mensaje.txt\")\n",
    "\n"
   ]
  },
  {
   "cell_type": "markdown",
   "metadata": {
    "id": "1eW-xXKv-48l"
   },
   "source": [
    "### Ventana de Verificación"
   ]
  },
  {
   "cell_type": "code",
   "execution_count": 12,
   "metadata": {
    "id": "L7-eR4jy-48l"
   },
   "outputs": [],
   "source": [
    "# ventana de verificar firma \n",
    "def verificar():\n",
    "    newWindow = Toplevel(raiz)\n",
    "    newWindow.title(\"Verificación de Firma\")\n",
    "    newWindow.geometry(\"500x300\")\n",
    "\n",
    "    def uploadFiles():\n",
    "        root = tk.Toplevel()\n",
    "        root.geometry('300x120')\n",
    "        root.title('Cargando')\n",
    "        \n",
    "        pb1 = ttk.Progressbar(\n",
    "            root, \n",
    "            orient= \"horizontal\", \n",
    "            length=300, \n",
    "            mode='determinate',\n",
    "            )\n",
    "        pb1.grid(row=5, columnspan=3, pady=20)\n",
    "\n",
    "        for i in range(5):\n",
    "            root.update_idletasks()\n",
    "            Label(root, text=f\"Progreso: {pb1['value']}%\").grid(column=0, row=6, columnspan=2)\n",
    "            pb1['value'] += 20\n",
    "            time.sleep(1)\n",
    "            Label(root, text=f\"Progreso: {pb1['value']}%\").grid(column=0, row=6, columnspan=2)\n",
    "        pb1.destroy()\n",
    "        Label(root, text='Archivo Subido', foreground='green').grid(row=5, columnspan=3, padx=10, pady=10)\n",
    "\n",
    "        file_save = os.path.join(txt_path, \"Mensaje.txt\")\n",
    "        with open(file_save, encoding=\"utf-8\") as f:\n",
    "            message = f.readlines()\n",
    "            message = \"\".join(message)\n",
    "\n",
    "        botonVer = Button(\n",
    "            root,\n",
    "            text='Verificar Firma',\n",
    "            command=verify_signature(message))\n",
    "        botonVer.grid(row=7, columnspan=3, pady=10)\n",
    "\n",
    "    def ventanaVer():\n",
    "        nuevaVentana = Toplevel(raiz)\n",
    "        nuevaVentana.title(\"Verificación \")\n",
    "        nuevaVentana.geometry(\"300x150\")\n",
    "        labelV = Label(\n",
    "            nuevaVentana, \n",
    "            text='Resultado de la verificación:',\n",
    "            font = 'Times 15 bold')\n",
    "        labelV.grid(row=0, column=1, padx=10)\n",
    "        \n",
    "        labelR = Label(\n",
    "            nuevaVentana, \n",
    "            text='TRUE',\n",
    "            font = 'Times 15 bold')\n",
    "        labelR.grid(row=2, column=1, padx=10)\n",
    "\n",
    "        \n",
    "    x = Label(newWindow,\n",
    "          text = \"Por favor, llena la siguiente información\")\n",
    "    x.grid(row=0, column=1, padx=10)\n",
    "    \n",
    "    archivo = Label(\n",
    "        newWindow, \n",
    "        text='Archivo por verificar: '\n",
    "        )\n",
    "    archivo.grid(row=1, column=0, padx=10)\n",
    "\n",
    "    boton_arch = Button(\n",
    "        newWindow, \n",
    "        text=\"Seleccionar Archivo\",\n",
    "        command= abrirArchivo_a_Usar\n",
    "        ) \n",
    "    boton_arch.grid(row=1, column=1)\n",
    "\n",
    "    cp = Label(\n",
    "        newWindow, \n",
    "        text='Certificado:'\n",
    "        )\n",
    "    cp.grid(row=2, column=0, padx=10)\n",
    "\n",
    "    cp_boton = Button(\n",
    "        newWindow, \n",
    "        text=\"Seleccionar Archivo\",\n",
    "        command= abrirArchivo_a_Usar_c\n",
    "        ) \n",
    "    cp_boton.grid(row=2, column=1)    \n",
    "    \n",
    "    archivo = Label(\n",
    "        newWindow, \n",
    "        text='Clave Pública: '\n",
    "        )\n",
    "    archivo.grid(row=3, column=0, padx=10)\n",
    "\n",
    "    boton_arch = Button(\n",
    "        newWindow, \n",
    "        text=\"Seleccionar Archivo\",\n",
    "        command= abrirArchivo_a_Usar_f\n",
    "        ) \n",
    "    boton_arch.grid(row=3, column=1)\n",
    "    \n",
    "    upld = Button(\n",
    "        newWindow, \n",
    "        text='Enviar archivos', \n",
    "        command=uploadFiles\n",
    "        )\n",
    "    upld.grid(row=6, columnspan=3, pady=10)"
   ]
  },
  {
   "cell_type": "markdown",
   "metadata": {
    "id": "9aqhf1Q4-48l"
   },
   "source": [
    "### Certificado"
   ]
  },
  {
   "cell_type": "code",
   "execution_count": 13,
   "metadata": {
    "id": "2A0l_EqW-48m"
   },
   "outputs": [],
   "source": [
    "def certificado():\n",
    "    newWindow = Toplevel(raiz)\n",
    "    newWindow.title(\"Generación de Certificado\")\n",
    " \n",
    "    newWindow.geometry(\"400x200\")\n",
    "    newWindow.resizable(False,False)\n",
    "\n",
    "    def uploadFiles(window):\n",
    "        pb1 = ttk.Progressbar(\n",
    "            window, \n",
    "            orient=HORIZONTAL, \n",
    "            length=300, \n",
    "            mode='determinate'\n",
    "            )\n",
    "        pb1.grid(row=5, columnspan=3, pady=20)\n",
    "        for i in range(5):\n",
    "            window.update_idletasks()\n",
    "            pb1['value'] += 20\n",
    "            time.sleep(1)\n",
    "        pb1.destroy()\n",
    "    \n",
    "    x = Label(newWindow,\n",
    "          text = \"Por favor, llena la siguiente información\")\n",
    "    x.grid(row=0, column=1, padx=10)\n",
    "    \n",
    "    nl = Label(newWindow,\n",
    "          text = \"Nombre: \")\n",
    "    nl.grid(row=1, column=0, padx=10)\n",
    "    global nomb\n",
    "    nomb = tk.Entry(newWindow)\n",
    "    nomb.grid(row=1, column=1, padx=10)\n",
    "    \n",
    "    el = Label(newWindow,\n",
    "          text = \"Estado: \")\n",
    "    el.grid(row=3, column=0, padx=10)\n",
    "    global estb\n",
    "    estb = tk.Entry(newWindow)\n",
    "    estb.grid(row=3, column=1, padx=10)\n",
    "    \n",
    "    cl = Label(newWindow,\n",
    "          text = \"Ciudad: \")\n",
    "    cl.grid(row=4, column=0, padx=10)\n",
    "    global ciudadb\n",
    "    ciudadb = tk.Entry(newWindow)\n",
    "    ciudadb.grid(row=4, column=1, padx=10)\n",
    "    \n",
    "    ol = Label(newWindow,\n",
    "          text = \"Organización: \")\n",
    "    ol.grid(row=5, column=0, padx=10)\n",
    "    global orgb\n",
    "    orgb = tk.Entry(newWindow)\n",
    "    orgb.grid(row=5, column=1, padx=10)\n",
    "\n",
    "    cl = Label(newWindow,\n",
    "          text = \"Correo electrónico: \")\n",
    "    cl.grid(row=6, column=0, padx=10)\n",
    "    global corb\n",
    "    corb = tk.Entry(newWindow)\n",
    "    corb.grid(row=6, column=1, padx=10)\n",
    "    \n",
    "    def generate_certificate(_=None):\n",
    "        global cor\n",
    "        global ciudad\n",
    "        global org\n",
    "        global est\n",
    "        global nom\n",
    "        \n",
    "        cor = str(corb.get())\n",
    "        ciudad = ciudadb.get()\n",
    "        org = orgb.get()\n",
    "        ciudad = ciudadb.get()\n",
    "        est = estb.get()\n",
    "        nom = str(nomb.get())\n",
    "        \n",
    "        public_a = os.path.join(key_path,\"public_key.pem\") \n",
    "        pukey = open(public_a)\n",
    "        Lines = pukey.readlines()\n",
    "        for i in Lines:\n",
    "            if (i[:18]) == 'Clave Publica Dx: ':\n",
    "                Dx = int(i[18:])\n",
    "            elif (i[:18]) == 'Clave Publica Dy: ':\n",
    "                Dy = int(i[18:])\n",
    "\n",
    "        curve = ec.SECP256R1()\n",
    "        publickey = ec.EllipticCurvePublicNumbers(Dx, Dy, curve)\n",
    "        objectpublickey = publickey.public_key()\n",
    "    \n",
    "        priv_a = os.path.join(key_path,\"private_key.pem\")\n",
    "        prikey = open(priv_a).read()\n",
    "        d = int(prikey)\n",
    "        privatekey = ec.derive_private_key(d, curve)\n",
    "        \n",
    "       \n",
    "        builder = x509.CertificateBuilder().subject_name(x509.Name([\n",
    "            x509.NameAttribute(x509.oid.NameOID.COUNTRY_NAME, \"MX\"),\n",
    "            x509.NameAttribute(x509.oid.NameOID.STATE_OR_PROVINCE_NAME, est),\n",
    "            x509.NameAttribute(x509.oid.NameOID.LOCALITY_NAME,ciudad),\n",
    "            x509.NameAttribute(x509.oid.NameOID.ORGANIZATION_NAME, org),\n",
    "            x509.NameAttribute(x509.oid.NameOID.COMMON_NAME, nom),\n",
    "            x509.NameAttribute(x509.oid.NameOID.EMAIL_ADDRESS, cor),\n",
    "        ])).issuer_name(x509.Name([\n",
    "            x509.NameAttribute(x509.oid.NameOID.COUNTRY_NAME, \"MX\"),\n",
    "            x509.NameAttribute(x509.oid.NameOID.STATE_OR_PROVINCE_NAME, \"NUEVO LEON\"),\n",
    "            x509.NameAttribute(x509.oid.NameOID.LOCALITY_NAME, \"MONTERREY\"),\n",
    "            x509.NameAttribute(x509.oid.NameOID.ORGANIZATION_NAME, \"TEC DE MONTERREY\"),\n",
    "            x509.NameAttribute(x509.oid.NameOID.COMMON_NAME, \"EQUIPO 3\"),\n",
    "            x509.NameAttribute(x509.oid.NameOID.EMAIL_ADDRESS, \"teleton@tec.org\"),\n",
    "        ])).not_valid_before(dt.datetime.today() - dt.timedelta(days=1))\\\n",
    "            .not_valid_after(dt.datetime.today() + dt.timedelta(days=365 * 2))\\\n",
    "            .serial_number(int(uuid4()))\\\n",
    "            .public_key(objectpublickey)\\\n",
    "            .add_extension(x509.BasicConstraints(ca=True, path_length=None), critical=True)\n",
    "\n",
    "        certificate = builder.sign(\n",
    "            private_key=privatekey,\n",
    "            algorithm=hashes.SHA256(),\n",
    "            backend=default_backend()\n",
    "        )\n",
    "\n",
    "        savingCert = os.path.join(key_path, \"certificado.der\")\n",
    "        file_cer = open(savingCert, \"wb\")\n",
    "        file_cer.write(certificate.public_bytes(encoding=serialization.Encoding.DER ))\n",
    "        file_cer.close()\n",
    "\n",
    "\n",
    "    botonF1 = Button(newWindow, \n",
    "        text='Generar', \n",
    "        command= generate_certificate\n",
    "        )\n",
    "    botonF1.grid(row=8, columnspan=3, pady=10)"
   ]
  },
  {
   "cell_type": "markdown",
   "metadata": {
    "id": "PzARjwDk-48m"
   },
   "source": [
    "# Hash"
   ]
  },
  {
   "cell_type": "code",
   "execution_count": 14,
   "metadata": {
    "id": "lM-DVXWm-48m"
   },
   "outputs": [],
   "source": [
    "def hash_function(message):\n",
    "    u=hashlib.sha256()\n",
    "    u.update(message.encode())\n",
    "    u=int(u.hexdigest(),16)\n",
    "\n",
    "    return u"
   ]
  },
  {
   "cell_type": "markdown",
   "metadata": {
    "id": "d8LznTD--48n"
   },
   "source": [
    "# Firmas"
   ]
  },
  {
   "cell_type": "markdown",
   "metadata": {
    "id": "9ScLXi6K-48n"
   },
   "source": [
    "## Generar Firma"
   ]
  },
  {
   "cell_type": "code",
   "execution_count": 15,
   "metadata": {
    "id": "kLOu_aGa-48n"
   },
   "outputs": [],
   "source": [
    "def generate_signature(message_to_sign):\n",
    "    print(\"Generating Signature\")\n",
    "\n",
    "    priv_a = os.path.join(key_path, \"private_key.pem\")\n",
    "    key = open(priv_a).read()\n",
    "    d = int(key)\n",
    "    \n",
    "    r=0\n",
    "    s=0\n",
    "    while r==0 or s==0:\n",
    "        k=random.randint(0,n-1) #para fines de esta implementación, k se da en los vectores de prueba.\n",
    "        Qx,Qy=binaryscalarproduct_(Px,Py,k)\n",
    "        r=Qx%n\n",
    "        h = hash_function(message_to_sign)\n",
    "        j=modinverse_(k,n)%n\n",
    "        s=(j*(h+d*r))%n\n",
    "        print(r,s)\n",
    "\n",
    "    signs = os.path.join(txt_path, \"MensajeFirmado.txt\")\n",
    "    signed_file = open(signs, \"w\", encoding=\"utf8\")\n",
    "\n",
    "    Mensaje = os.path.join(txt_path,\"Mensaje.txt\")\n",
    "    with open(Mensaje, encoding=\"utf-8\") as f:\n",
    "        message = f.readlines()\n",
    "        message = \"\".join(message)\n",
    "    signed_file.write(message)\n",
    "    signed_file.write(\"\\n\\n\")\n",
    "    signed_file.write('Firma Digital (r): '+str(r))\n",
    "    signed_file.write(\"\\n\")\n",
    "    signed_file.write('Firma Digital (s): '+str(s))\n",
    "    signed_file.close()\n",
    "\n",
    "    return r,s\n"
   ]
  },
  {
   "cell_type": "markdown",
   "metadata": {
    "id": "g-W2OBXn-48n"
   },
   "source": [
    "## Verificar Firma"
   ]
  },
  {
   "cell_type": "code",
   "execution_count": 16,
   "metadata": {
    "id": "2RhFtpg7-48n"
   },
   "outputs": [],
   "source": [
    "def verify_signature(message):\n",
    "    \n",
    "    #Lee la publica\n",
    "    public_a = os.path.join(key_path,\"public_key.pem\")\n",
    "    key = open(public_a)\n",
    "    Lines = key.readlines()\n",
    "    for i in Lines:\n",
    "        if (i[:18]) == 'Clave Publica Dx: ':\n",
    "            Dx = int(i[18:])\n",
    "        elif (i[:18]) == 'Clave Publica Dy: ':\n",
    "            Dy = int(i[18:])\n",
    "\n",
    "    #Lee la firma digital\n",
    "    firma_dig = os.path.join(txt_path,\"MensajeFirmado.txt\")\n",
    "    key = open(firma_dig,'r')       \n",
    "    \n",
    "    Lines = key.readlines()\n",
    "    for i in Lines:\n",
    "        if (i[:19]) == 'Firma Digital (s): ':\n",
    "            s = int(i[19:])\n",
    "        elif (i[:19]) == 'Firma Digital (r): ':\n",
    "            r = int(i[19:])\n",
    "\n",
    "    \n",
    "    h = hash_function(message)\n",
    "    print(message)\n",
    "    print('')\n",
    "    print(h)\n",
    "    if (r<=0 or r>=(n-1) or s<=0 or s>=(n-1)):\n",
    "        messagebox.showinfo(\"Error\", \"Signature not valid\")\n",
    "    else:\n",
    "        w=modinverse_(s,n)%n\n",
    "        u1=(w*h)%n\n",
    "        u2=(r*w)%n\n",
    "        u1_times_Px,u1_times_Py=binaryscalarproduct_(Px,Py,u1)\n",
    "        u2_times_Dx,u2_times_Dy=binaryscalarproduct_(Dx,Dy,u2)\n",
    "        Yx,Yy=sum_(u1_times_Px,u1_times_Py,u2_times_Dx,u2_times_Dy)\n",
    "        v=Yx%n\n",
    "        print('r: ',r)\n",
    "        print('s: ',s)\n",
    "        print('Dx: ',Dx)\n",
    "        print('Dy: ',Dy)\n",
    "        \n",
    "        print(v)\n",
    "        if (r==v):\n",
    "            print(h)\n",
    "            messagebox.showinfo(\"Success\", \"Message verified correctly valid signature\")\n",
    "        else:\n",
    "            messagebox.showinfo(\"Error\", \"Signature not valid\")"
   ]
  },
  {
   "cell_type": "markdown",
   "metadata": {
    "id": "2LF9x-3A-48n"
   },
   "source": [
    "# Regresar"
   ]
  },
  {
   "cell_type": "code",
   "execution_count": null,
   "metadata": {
    "id": "8DXwd3DN-48n"
   },
   "outputs": [
    {
     "name": "stdout",
     "output_type": "stream",
     "text": [
      "Generating Signature\n",
      "10916469878860137974195023097466782893428554000969963207407394441254161486542 46262488992248136233398094340592753900391360998210985849861059524808932847456\n",
      "sample\n",
      "\n",
      "79232240492262066599341792208678897019497196617930543451364792016062498329023\n",
      "r:  10916469878860137974195023097466782893428554000969963207407394441254161486542\n",
      "s:  46262488992248136233398094340592753900391360998210985849861059524808932847456\n",
      "Dx:  73278918427418512813408432221062846231698744794858903382785795461563591809060\n",
      "Dy:  32974107215476604440143580410290783634504742442866236265190844330404844835759\n",
      "10916469878860137974195023097466782893428554000969963207407394441254161486542\n",
      "79232240492262066599341792208678897019497196617930543451364792016062498329023\n"
     ]
    }
   ],
   "source": [
    "raiz.mainloop()"
   ]
  },
  {
   "cell_type": "markdown",
   "metadata": {
    "id": "Y5z0JvvM-48p"
   },
   "source": []
  }
 ],
 "metadata": {
  "colab": {
   "name": "Interfaz_Final.ipynb",
   "provenance": []
  },
  "kernelspec": {
   "display_name": "Python 3",
   "language": "python",
   "name": "python3"
  },
  "language_info": {
   "codemirror_mode": {
    "name": "ipython",
    "version": 3
   },
   "file_extension": ".py",
   "mimetype": "text/x-python",
   "name": "python",
   "nbconvert_exporter": "python",
   "pygments_lexer": "ipython3",
   "version": "3.7.9"
  }
 },
 "nbformat": 4,
 "nbformat_minor": 1
}
